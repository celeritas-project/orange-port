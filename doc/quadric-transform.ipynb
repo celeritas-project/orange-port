{
 "cells": [
  {
   "cell_type": "code",
   "execution_count": 1,
   "metadata": {
    "collapsed": false,
    "jupyter": {
     "outputs_hidden": false
    }
   },
   "outputs": [],
   "source": [
    "from __future__ import print_function, division\n",
    "\n",
    "import numpy as np\n",
    "import math"
   ]
  },
  {
   "cell_type": "markdown",
   "metadata": {},
   "source": [
    "Quadric transforms\n",
    "===================\n",
    "*Seth R Johnson*\n",
    "\n",
    "*January 27, 2016*\n"
   ]
  },
  {
   "cell_type": "code",
   "execution_count": 2,
   "metadata": {
    "collapsed": false,
    "jupyter": {
     "outputs_hidden": false
    }
   },
   "outputs": [],
   "source": [
    "def rotate_x(frac):\n",
    "    theta = 2 * frac * math.pi\n",
    "    return np.array([[1, 0, 0],\n",
    "                     [0, math.cos(theta), -math.sin(theta)],\n",
    "                     [0, math.sin(theta), math.cos(theta)]])\n",
    "\n",
    "def rotate_y(frac):\n",
    "    theta = 2 * frac * math.pi\n",
    "    return np.array([[math.cos(theta), 0, math.sin(theta)],\n",
    "                     [0, 1, 0],\n",
    "                     [-math.sin(theta), 0, math.cos(theta)]])\n",
    "\n",
    "def rotate_z(frac):\n",
    "    theta = 2 * frac * math.pi\n",
    "    return np.array([[math.cos(theta), -math.sin(theta), 0.0],\n",
    "                     [math.sin(theta), math.cos(theta), 0.0],\n",
    "                     [0, 0, 1]])"
   ]
  },
  {
   "cell_type": "markdown",
   "metadata": {},
   "source": [
    "Transform:\n",
    "\\begin{equation}\n",
    "\\mathbf{x}' \\gets \\mathbf{Rx} + \\mathbf{t}\n",
    "\\end{equation}\n",
    "becomes\n",
    "\\begin{equation}\n",
    "\\mathbf{\\tilde x'}\n",
    "\\gets\n",
    "\\begin{bmatrix}\n",
    "1 & 0 \\\\\n",
    "\\mathbf{t} & \\mathbf{R} \\\\\n",
    "\\end{bmatrix}\n",
    "\\mathbf{\\tilde x}\n",
    "\\end{equation}\n",
    "where\n",
    "\\begin{equation}\n",
    "\\mathbf{\\tilde x}\n",
    "= \n",
    "\\begin{bmatrix}\n",
    "1 \\\\\n",
    "x \\\\\n",
    "y \\\\\n",
    "z \\\\\n",
    "\\end{bmatrix}\n",
    "\\end{equation}"
   ]
  },
  {
   "cell_type": "code",
   "execution_count": 3,
   "metadata": {
    "collapsed": true,
    "jupyter": {
     "outputs_hidden": true
    }
   },
   "outputs": [],
   "source": [
    "def make_transform(rotation, translation):\n",
    "    result = np.zeros((4,4))\n",
    "    result[0,0] = 1\n",
    "    result[1:,0] = translation\n",
    "    result[1:,1:] = rotation\n",
    "    return result"
   ]
  },
  {
   "cell_type": "markdown",
   "metadata": {},
   "source": [
    "Inverse transform\n",
    "\\begin{equation}\n",
    "\\mathbf{R}^{-1}(\\mathbf{x}' - \\mathbf{t}) \\to \\mathbf{x}\n",
    "\\end{equation}\n",
    "or\n",
    "\\begin{equation}\n",
    "\\mathbf{\\tilde x}\n",
    "\\gets\n",
    "\\begin{bmatrix}\n",
    "1 & 0 \\\\\n",
    "-\\mathbf{R}^{-1} \\mathbf{t} & \\mathbf{R}^{-1} \\\\\n",
    "\\end{bmatrix}\n",
    "\\mathbf{\\tilde x}'\n",
    "= \\mathbf{\\tilde R}^{-1} \\mathbf{\\tilde x}'\n",
    "\\end{equation}"
   ]
  },
  {
   "cell_type": "code",
   "execution_count": 4,
   "metadata": {
    "collapsed": true,
    "jupyter": {
     "outputs_hidden": true
    }
   },
   "outputs": [],
   "source": [
    "def invert_transform(transform):\n",
    "    rinv = transform[1:,1:].T\n",
    "    translation = transform[1:,0]\n",
    "    result = np.zeros((4,4))\n",
    "    result[0,0] = 1\n",
    "    result[1:,0] = -rinv.dot(np.array(translation))\n",
    "    result[1:,1:] = rinv\n",
    "    return result"
   ]
  },
  {
   "cell_type": "markdown",
   "metadata": {},
   "source": [
    "The regular quadric equation satisfies\n",
    "\\begin{equation}\n",
    "\\mathbf{\\tilde x}^{T}\\mathbf{Q}\\mathbf{\\tilde x} = 0\n",
    "\\end{equation}\n",
    "\n",
    "Where the quadric equation \n",
    "\\begin{equation}\n",
    "ax^2 + by^2 + cz^2 + dxy + eyz + fzx + gx + hy + iz + j = 0\n",
    "\\end{equation}\n",
    "becomes the symmetric matrix\n",
    "\\begin{equation}\n",
    "\\mathbf{Q} = \\begin{bmatrix}\n",
    "j   & g/2 & h/2 & i/2 \\\\\n",
    "g/2 & a   & d/2 & f/2 \\\\\n",
    "h/2 & d/2 & b   & e/2 \\\\\n",
    "i/2 & f/2 & e/2 & c \n",
    "\\end{bmatrix}\n",
    "\\end{equation}\n",
    "It could also be written as the upper-triangular matrix\n",
    "\\begin{equation}\n",
    "\\mathbf{Q} = \\begin{bmatrix}\n",
    "j & g & h & i \\\\  \n",
    "0 & a & d & f \\\\  \n",
    "0 & 0 & b & e \\\\  \n",
    "0 & 0 & 0 & c\n",
    "\\end{bmatrix},\n",
    "\\end{equation}\n",
    "but this makes it harder to extract a general quadric equation from the result of transformations to $\\mathbf{Q}$. Keeping the matrix symmetric makes life easier."
   ]
  },
  {
   "cell_type": "code",
   "execution_count": 5,
   "metadata": {
    "collapsed": true,
    "jupyter": {
     "outputs_hidden": true
    }
   },
   "outputs": [],
   "source": [
    "def make_quadric(a,b,c,d,e,f,g,h,i,j):\n",
    "    return np.array([[j  , g/2, h/2, i/2],\n",
    "                     [g/2, a  , d/2, f/2],\n",
    "                     [h/2, d/2, b  , e/2],\n",
    "                     [i/2, f/2, e/2, c]])"
   ]
  },
  {
   "cell_type": "code",
   "execution_count": 6,
   "metadata": {
    "collapsed": false,
    "jupyter": {
     "outputs_hidden": false
    }
   },
   "outputs": [],
   "source": [
    "def quadric_to_str(q):\n",
    "    assert q.shape == (4,4)\n",
    "    assert np.allclose(q.T - q, 0), \"Asymmetric: {}\".format(q.T - q)\n",
    "    bits = []\n",
    "    for (i,j,lab) in ((1,1,'x^2'), (2,2,'y^2'), (3,3,'z^2'),\n",
    "                      (1,2,'xy'),  (1,3,'xz'),  (2,3,'yz'),\n",
    "                      (0,1,'x'),   (0,2,'y'),   (0,3,'z'),\n",
    "                      (0,0,'')):\n",
    "        val = q[i,j]\n",
    "        if abs(q[i,j]) > 1e-14:\n",
    "            if i != j: val *= 2\n",
    "            bits.append(str(val) + lab)\n",
    "    return (\" + \".join(bits) + \" = 0\")"
   ]
  },
  {
   "cell_type": "code",
   "execution_count": 7,
   "metadata": {
    "collapsed": true,
    "jupyter": {
     "outputs_hidden": true
    }
   },
   "outputs": [],
   "source": [
    "def make_asymmetric_quadric(a,b,c,d,e,f,g,h,i,j):\n",
    "    return np.array([[j, g, h, i],\n",
    "                     [0, a, d, f],\n",
    "                     [0, 0, b, e],\n",
    "                     [0, 0, 0, c]])\n",
    "def asymmetric_quadric_to_str(q):\n",
    "    assert q.shape == (4,4)\n",
    "    bits = []\n",
    "    for (i,j,lab) in ((1,1,'x^2'), (2,2,'y^2'), (3,3,'z^2'),\n",
    "                      (1,2,'xy'),  (1,3,'xz'),  (2,3,'yz'),\n",
    "                      (0,1,'x'),   (0,2,'y'),   (0,3,'z'),\n",
    "                      (0,0,'')):\n",
    "        val = q[i,j]\n",
    "        if abs(q[i,j]) > 1e-14:\n",
    "            bits.append(str(val) + lab)\n",
    "    return (\" + \".join(bits) + \" = 0\")"
   ]
  },
  {
   "cell_type": "code",
   "execution_count": 8,
   "metadata": {
    "collapsed": false,
    "jupyter": {
     "outputs_hidden": false
    }
   },
   "outputs": [
    {
     "name": "stdout",
     "output_type": "stream",
     "text": [
      "[[ 1.          0.          0.          0.        ]\n",
      " [ 1.          0.70710678 -0.70710678  0.        ]\n",
      " [ 0.          0.70710678  0.70710678  0.        ]\n",
      " [ 1.          0.          0.          1.        ]]\n",
      "[ 1.          1.70710678  0.70710678  1.        ]\n"
     ]
    }
   ],
   "source": [
    "# Rotate by 45 degrees clockwise around the z axis, then shift right by 1.0; z shouldn't change\n",
    "rot_and_shift = make_transform(rotate_z(.125), (1, 0, 1))\n",
    "print(rot_and_shift)\n",
    "print(rot_and_shift.dot((1,1,0,0)))"
   ]
  },
  {
   "cell_type": "code",
   "execution_count": 9,
   "metadata": {
    "collapsed": false,
    "jupyter": {
     "outputs_hidden": false
    }
   },
   "outputs": [
    {
     "data": {
      "text/plain": [
       "array([[ 1.,  0.,  0.,  0.],\n",
       "       [ 0.,  1.,  0.,  0.],\n",
       "       [ 0.,  0.,  1.,  0.],\n",
       "       [ 0.,  0.,  0.,  1.]])"
      ]
     },
     "execution_count": 9,
     "metadata": {},
     "output_type": "execute_result"
    }
   ],
   "source": [
    "# Transform multiplied by its inverse should be the identity matrix\n",
    "invert_transform(rot_and_shift).dot(rot_and_shift)"
   ]
  },
  {
   "cell_type": "code",
   "execution_count": 10,
   "metadata": {
    "collapsed": false,
    "jupyter": {
     "outputs_hidden": false
    },
    "scrolled": true
   },
   "outputs": [
    {
     "name": "stdout",
     "output_type": "stream",
     "text": [
      "[[-2.   0.5  0.   0. ]\n",
      " [ 0.5  0.   0.   0. ]\n",
      " [ 0.   0.   0.   0. ]\n",
      " [ 0.   0.   0.   0. ]]\n",
      "1.0x + -2.0 = 0\n"
     ]
    }
   ],
   "source": [
    "# Plane at X = 2\n",
    "plane = make_quadric(0,0,0, 0,0,0, 1,0,0, -2)\n",
    "print(plane)\n",
    "print(quadric_to_str(plane))"
   ]
  },
  {
   "cell_type": "markdown",
   "metadata": {},
   "source": [
    "\n",
    "We want to operate on the transformed version\n",
    "\\begin{equation}\n",
    "\\mathbf{\\tilde x'}^{T}\\mathbf{Q}\\mathbf{\\tilde x'} = 0\n",
    "\\end{equation}\n",
    "Substituting the inverse transform $\\mathbf{\\tilde R}^{-1}$, and expanding the transpose using $(A B)^T = B^T A^T$, this becomes\n",
    "\\begin{equation}\n",
    "\\mathbf{\\tilde x}^{T}(\\mathbf{\\tilde R}^{-1})^T\\mathbf{Q}\\mathbf{\\tilde R}^{-1}\\mathbf{\\tilde x} = 0\n",
    "\\end{equation}\n",
    "which is equivalent to a new quadric $\\mathbf{Q}'$ with coefficients\n",
    "\\begin{equation}\n",
    "(\\mathbf{\\tilde R}^{-1})^T\\mathbf{Q}\\mathbf{\\tilde R}^{-1}\n",
    "\\end{equation}\n",
    "\n"
   ]
  },
  {
   "cell_type": "code",
   "execution_count": 11,
   "metadata": {
    "collapsed": true,
    "jupyter": {
     "outputs_hidden": true
    }
   },
   "outputs": [],
   "source": [
    "def transform_quadric(quadric, transform):\n",
    "    inverse = invert_transform(transform)\n",
    "    return inverse.T.dot(quadric.dot(inverse))"
   ]
  },
  {
   "cell_type": "code",
   "execution_count": 12,
   "metadata": {
    "collapsed": false,
    "jupyter": {
     "outputs_hidden": false
    }
   },
   "outputs": [
    {
     "data": {
      "text/plain": [
       "'0.707106781187x + 0.707106781187y + -2.70710678119 = 0'"
      ]
     },
     "execution_count": 12,
     "metadata": {},
     "output_type": "execute_result"
    }
   ],
   "source": [
    "# Expected: plane like (.707)x + (.707)y = 2.707\n",
    "quadric_to_str(transform_quadric(plane, rot_and_shift))"
   ]
  },
  {
   "cell_type": "markdown",
   "metadata": {},
   "source": [
    "### C testing"
   ]
  },
  {
   "cell_type": "code",
   "execution_count": 13,
   "metadata": {
    "collapsed": false,
    "jupyter": {
     "outputs_hidden": false
    },
    "scrolled": true
   },
   "outputs": [
    {
     "name": "stdout",
     "output_type": "stream",
     "text": [
      "[[ 1.          0.          0.          0.        ]\n",
      " [-0.70710678  0.70710678  0.70710678  0.        ]\n",
      " [ 0.70710678 -0.70710678  0.70710678  0.        ]\n",
      " [-1.          0.          0.          1.        ]]\n"
     ]
    }
   ],
   "source": [
    "irs = invert_transform(rot_and_shift)\n",
    "print(irs)"
   ]
  },
  {
   "cell_type": "code",
   "execution_count": 14,
   "metadata": {
    "collapsed": false,
    "jupyter": {
     "outputs_hidden": false
    }
   },
   "outputs": [
    {
     "name": "stdout",
     "output_type": "stream",
     "text": [
      "[[-2.   0.5  0.   0. ]\n",
      " [ 0.5  0.   0.   0. ]\n",
      " [ 0.   0.   0.   0. ]\n",
      " [ 0.   0.   0.   0. ]]\n"
     ]
    }
   ],
   "source": [
    "print(plane)"
   ]
  },
  {
   "cell_type": "code",
   "execution_count": 15,
   "metadata": {
    "collapsed": false,
    "jupyter": {
     "outputs_hidden": false
    }
   },
   "outputs": [
    {
     "name": "stdout",
     "output_type": "stream",
     "text": [
      "[[-2.35355339  0.35355339  0.35355339  0.        ]\n",
      " [ 0.5         0.          0.          0.        ]\n",
      " [ 0.          0.          0.          0.        ]\n",
      " [ 0.          0.          0.          0.        ]]\n"
     ]
    }
   ],
   "source": [
    "print(plane.dot(irs))"
   ]
  },
  {
   "cell_type": "code",
   "execution_count": 16,
   "metadata": {
    "collapsed": false,
    "jupyter": {
     "outputs_hidden": false
    }
   },
   "outputs": [
    {
     "name": "stdout",
     "output_type": "stream",
     "text": [
      "[[-2.70710678  0.35355339  0.35355339  0.        ]\n",
      " [ 0.35355339  0.          0.          0.        ]\n",
      " [ 0.35355339  0.          0.          0.        ]\n",
      " [ 0.          0.          0.          0.        ]]\n"
     ]
    }
   ],
   "source": [
    "print(irs.T.dot(plane.dot(irs)))"
   ]
  },
  {
   "cell_type": "code",
   "execution_count": null,
   "metadata": {
    "collapsed": true,
    "jupyter": {
     "outputs_hidden": true
    }
   },
   "outputs": [],
   "source": []
  }
 ],
 "metadata": {
  "kernelspec": {
   "display_name": "Python 3",
   "language": "python",
   "name": "python3"
  },
  "language_info": {
   "codemirror_mode": {
    "name": "ipython",
    "version": 3
   },
   "file_extension": ".py",
   "mimetype": "text/x-python",
   "name": "python",
   "nbconvert_exporter": "python",
   "pygments_lexer": "ipython3",
   "version": "3.9.5"
  }
 },
 "nbformat": 4,
 "nbformat_minor": 4
}
