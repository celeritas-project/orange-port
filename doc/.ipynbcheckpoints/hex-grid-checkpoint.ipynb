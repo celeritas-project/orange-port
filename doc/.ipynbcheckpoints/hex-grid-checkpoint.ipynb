{
 "cells": [
  {
   "cell_type": "code",
   "execution_count": null,
   "metadata": {
    "collapsed": false
   },
   "outputs": [],
   "source": [
    "from __future__ import print_function, division\n",
    "\n",
    "# Basic python packages\n",
    "import json\n",
    "import math\n",
    "import itertools\n",
    "\n",
    "# External plotting and analysis tools\n",
    "import matplotlib.pyplot as plt\n",
    "import numpy as np\n",
    "%matplotlib inline\n",
    "\n",
    "# Internal plotting and analysis\n",
    "from omnutils.extends.matplotlib import *\n",
    "screen_style()"
   ]
  },
  {
   "cell_type": "code",
   "execution_count": null,
   "metadata": {
    "collapsed": true
   },
   "outputs": [],
   "source": [
    "from matplotlib.patches import RegularPolygon\n",
    "from matplotlib.collections import PatchCollection\n",
    "from matplotlib.colors import Normalize"
   ]
  },
  {
   "cell_type": "markdown",
   "metadata": {},
   "source": [
    "Hex grid\n",
    "===================\n",
    "*Seth R Johnson*\n",
    "\n",
    "*November 12, 2015*\n"
   ]
  },
  {
   "cell_type": "code",
   "execution_count": null,
   "metadata": {
    "collapsed": false
   },
   "outputs": [],
   "source": [
    "apothem = 1.0 # inner radius\n",
    "offset = 0.0 # set to 0.0 for flat-topped (\"rhex\"), 0.5 for pointy-topped (standard KENO \"hex\")\n",
    "num_sides = 6\n",
    "offset = math.fmod(num_sides * 3 + 4 * offset, 4.0) / 4.0"
   ]
  },
  {
   "cell_type": "code",
   "execution_count": null,
   "metadata": {
    "collapsed": true
   },
   "outputs": [],
   "source": [
    "hextype = \"flattop\" if offset == 0.5 else \"pointytop\""
   ]
  },
  {
   "cell_type": "code",
   "execution_count": 53,
   "metadata": {
    "collapsed": false
   },
   "outputs": [],
   "source": [
    "# Face normals and displacement vectors\n",
    "normals = np.empty((num_sides, 2))\n",
    "displacements = np.empty((num_sides, 2))\n",
    "for n in range(num_sides):\n",
    "    theta = 2 * math.pi * (n + offset) / num_sides\n",
    "    normals[n] = [math.cos(theta), math.sin(theta)]\n",
    "    displacements[n] = normals[n] * apothem"
   ]
  },
  {
   "cell_type": "code",
   "execution_count": 54,
   "metadata": {
    "collapsed": false
   },
   "outputs": [
    {
     "data": {
      "text/plain": [
       "array([[ 8.66025404e-01,  5.00000000e-01],\n",
       "       [ 6.12323400e-17,  1.00000000e+00],\n",
       "       [-8.66025404e-01,  5.00000000e-01]])"
      ]
     },
     "execution_count": 54,
     "metadata": {},
     "output_type": "execute_result"
    }
   ],
   "source": [
    "normals[:3, :]"
   ]
  },
  {
   "cell_type": "markdown",
   "metadata": {},
   "source": [
    "With hexes, the unit basis vectors are along the normals through the zeroth and first faces. It's easier to scale the basis vectors by twice the apothem (distance from the center to a face), so that the distance between adjacent hex center points is always 1 in the hex coordinate system:\n",
    "$$ \\vec{u} = 2a \\cos \\frac{\\pi \\delta}{3} \\vec{i} + 2a \\sin \\frac{\\pi \\delta}{3} \\vec{j} $$\n",
    "and \n",
    "$$ \\vec{v} = 2a \\cos \\frac{\\pi (1 + \\delta)}{3} \\vec{i} + 2a \\sin \\frac{\\pi (1 + \\delta)}{3} \\vec{j} $$\n",
    "Here, $\\delta$ is the \"net\" offset (different from the user-input offset): $\\tfrac{1}{2}$ for flat-topped hexes (in KENO, \"rhexagon\"), and 0 for pointy-topped hexes (in KENO, \"hexagon\").\n",
    "\n"
   ]
  },
  {
   "cell_type": "code",
   "execution_count": null,
   "metadata": {
    "collapsed": false,
    "scrolled": true
   },
   "outputs": [],
   "source": [
    "bases = 2 * displacements[0:2,:]\n",
    "bases"
   ]
  },
  {
   "cell_type": "code",
   "execution_count": null,
   "metadata": {
    "collapsed": false
   },
   "outputs": [],
   "source": [
    "outer_radius = apothem / math.cos(math.pi / 6)\n",
    "poly_orient = math.pi * offset"
   ]
  },
  {
   "cell_type": "code",
   "execution_count": null,
   "metadata": {
    "collapsed": false
   },
   "outputs": [],
   "source": [
    "1/math.cos(math.pi / 6)"
   ]
  },
  {
   "cell_type": "code",
   "execution_count": null,
   "metadata": {
    "collapsed": false,
    "scrolled": true
   },
   "outputs": [],
   "source": [
    "fig, ax = plt.subplots()\n",
    "\n",
    "# Plot hex\n",
    "patch = RegularPolygon((0., 0.), num_sides, radius=outer_radius, orientation=poly_orient,\n",
    "                       facecolor='none', edgecolor='k')\n",
    "ax.set_xlim(-2.2 * apothem, 2.2 * apothem)\n",
    "ax.set_ylim(-1.5 * apothem, 2.5 * apothem)\n",
    "ax.set_aspect('equal')\n",
    "ax.add_patch(patch)\n",
    "ax.plot(0, 0, 'ko')\n",
    "\n",
    "# Plot faces\n",
    "ax.plot(displacements[:,0], displacements[:,1], 'ro')\n",
    "for n in range(num_sides):\n",
    "    ax.text(1.25 * displacements[n,0], 1.25 * displacements[n,1], str(n),\n",
    "           ha='center', va='center')\n",
    "    \n",
    "# Plot bases\n",
    "for (i, lab) in enumerate(\"uv\"):\n",
    "    basis = bases[i,:]\n",
    "    ax.arrow(0, 0, basis[0], basis[1], head_width=.1 * apothem, head_length=.15 * apothem, fc='k')\n",
    "    ax.text(1.1 * basis[0], 1.1 * basis[1], \"${}$\".format(lab))\n",
    "# Additional basis function\n",
    "if 1:\n",
    "    basis = 2 * displacements[2,:]\n",
    "    lab = 'w'\n",
    "    c = (.75,.75,.75)\n",
    "    ax.arrow(0, 0, basis[0], basis[1], head_width=.1 * apothem, head_length=.15 * apothem, fc=c, color=c)\n",
    "    ax.text(1.1 * basis[0], 1.1 * basis[1], \"${}$\".format(lab), color=c)\n",
    "    \n",
    "ax.grid()\n",
    "fig.savefig(\"../doc/hex-{}-bases.pdf\".format(hextype))"
   ]
  },
  {
   "cell_type": "markdown",
   "metadata": {},
   "source": [
    "(Note correspondence between faces of adjacent hexes: `(n + 3) % 6`. We will need to check surface senses, however, to determine whether they're orthogonal or not (because external senses will change). Erf.)"
   ]
  },
  {
   "cell_type": "markdown",
   "metadata": {},
   "source": [
    "The basis functions allow us to convert from the hexagonal coordinate system $u \\vec{u} + v \\vec{v}$ to the Cartesian coordinate system $x \\vec{i} + y \\vec{j}$. We simply evaluate the basis vectors given the rotation offset $\\delta$.\n",
    "\n",
    "For flat-topped hexes, the \"hex coordinates\" $(u,v)$ relate to the cartesian coordinates $(x, y)$ by the transform\n",
    "$$\n",
    "  \\begin{bmatrix}\n",
    "     x \\\\\n",
    "     y\n",
    "  \\end{bmatrix} \n",
    "   =\n",
    "   2a\n",
    "  \\begin{bmatrix}\n",
    "    \\tfrac{\\sqrt{3}}{2} & \\tfrac{1}{2} \\\\\n",
    "    0 & 1\n",
    "   \\end{bmatrix} \n",
    "   \\begin{bmatrix}\n",
    "     u \\\\\n",
    "     v\n",
    "   \\end{bmatrix} \n",
    "$$\n",
    "\n",
    "For pointy-topped hexes ($\\delta = \\tfrac{1}{2}$), the transformation is \n",
    "$$\n",
    "  \\begin{bmatrix}\n",
    "     x \\\\\n",
    "     y\n",
    "  \\end{bmatrix} \n",
    "   =\n",
    "   2a\n",
    "  \\begin{bmatrix}\n",
    "    1 & 0 \\\\\n",
    "    \\tfrac{1}{2} & \\tfrac{\\sqrt{3}}{2}\n",
    "   \\end{bmatrix} \n",
    "   \\begin{bmatrix}\n",
    "     u \\\\\n",
    "     v\n",
    "   \\end{bmatrix} \n",
    "$$"
   ]
  },
  {
   "cell_type": "code",
   "execution_count": null,
   "metadata": {
    "collapsed": true
   },
   "outputs": [],
   "source": [
    "def retick(ax, dx=2):\n",
    "    (lo, hi) = ax.get_xlim()\n",
    "    ax.set_xticks(np.arange(math.ceil(lo), math.floor(hi + dx), dx))\n",
    "    (lo, hi) = ax.get_ylim()\n",
    "    ax.set_yticks(np.arange(math.ceil(lo), math.floor(hi + dx), dx))"
   ]
  },
  {
   "cell_type": "code",
   "execution_count": null,
   "metadata": {
    "collapsed": false,
    "scrolled": true
   },
   "outputs": [],
   "source": [
    "fig, ax = plt.subplots()\n",
    "\n",
    "patches = []\n",
    "(umax, vmax) = (3, 5)\n",
    "for (u, v) in itertools.product(range(umax), range(vmax)):\n",
    "    uv = np.array([u, v])\n",
    "    xy = uv.dot(bases) # multiply by the column vector (u,v)\n",
    "    patches.append(RegularPolygon(xy, num_sides, outer_radius, poly_orient))\n",
    "    ax.text(xy[0], xy[1], \"$({},{})$\".format(u, v), ha='center', va='center')\n",
    "\n",
    "ax.set_xlim(-1.2 * outer_radius, xy[0] + 1.2 * outer_radius)\n",
    "ax.set_ylim(-1.2 * outer_radius, xy[1] + 1.2 * outer_radius)\n",
    "ax.set_aspect('equal')\n",
    "retick(ax)\n",
    "ax.add_collection(PatchCollection(patches, facecolor='none', edgecolor='k'))\n",
    "ax.grid()\n",
    "fig.savefig(\"../doc/hex-{}-coords-{:d}x{:d}.pdf\".format(hextype, umax, vmax))"
   ]
  },
  {
   "cell_type": "markdown",
   "metadata": {},
   "source": [
    "## Convert from Cartesian to $(u,v)$"
   ]
  },
  {
   "cell_type": "markdown",
   "metadata": {},
   "source": [
    "To convert from Cartesian to grid coordinates, we invert the basis functions: $$\n",
    "  \\begin{bmatrix}\n",
    "     u \\\\\n",
    "     v\n",
    "  \\end{bmatrix} \n",
    "   =\n",
    "   B^{-1}\n",
    "   \\begin{bmatrix}\n",
    "     x \\\\\n",
    "     y\n",
    "   \\end{bmatrix} \n",
    "   $$"
   ]
  },
  {
   "cell_type": "code",
   "execution_count": null,
   "metadata": {
    "collapsed": false,
    "scrolled": true
   },
   "outputs": [],
   "source": [
    "inv_bases = np.linalg.inv(bases)\n",
    "inv_bases"
   ]
  },
  {
   "cell_type": "code",
   "execution_count": null,
   "metadata": {
    "collapsed": false
   },
   "outputs": [],
   "source": [
    "def xy_to_uv(x, y):\n",
    "    xy = np.array([x,y])\n",
    "    return xy.dot(inv_bases)"
   ]
  },
  {
   "cell_type": "markdown",
   "metadata": {},
   "source": [
    "This gives us decimal coordinates in the $(u,v)$ basis system"
   ]
  },
  {
   "cell_type": "code",
   "execution_count": null,
   "metadata": {
    "collapsed": false,
    "scrolled": true
   },
   "outputs": [],
   "source": [
    "print(xy_to_uv(2.0, 0))\n",
    "print(xy_to_uv(1.0, 2.0))\n",
    "print(xy_to_uv(8.0, 10.0))"
   ]
  },
  {
   "cell_type": "code",
   "execution_count": null,
   "metadata": {
    "collapsed": true
   },
   "outputs": [],
   "source": [
    "x = np.linspace(-2 * apothem, 2 * apothem, 65)\n",
    "y = x\n",
    "(X, Y) = np.meshgrid(x, y)\n",
    "XY  = np.stack([X,Y])"
   ]
  },
  {
   "cell_type": "code",
   "execution_count": null,
   "metadata": {
    "collapsed": false
   },
   "outputs": [],
   "source": [
    "UV = np.empty((2, y.size, x.size))\n",
    "for (j, i) in itertools.product(range(y.size), range(x.size)):\n",
    "    UV[:,j,i] = XY[:,j,i].dot(inv_bases)\n",
    "U = UV[0,:,:]\n",
    "V = UV[1,:,:]"
   ]
  },
  {
   "cell_type": "code",
   "execution_count": null,
   "metadata": {
    "collapsed": false
   },
   "outputs": [],
   "source": [
    "norm = Normalize(vmin=-1, vmax=1.)\n",
    "cmap = 'rb_linear'\n",
    "\n",
    "def plot_hex_field(ax, val):\n",
    "    pc = ax.pcolormesh(X, Y, val, norm=norm, cmap=cmap)\n",
    "    patches = []\n",
    "    points = []\n",
    "    for (u, v) in itertools.product(range(-1,2), range(-1,2)):\n",
    "        uv = np.array([u, v])\n",
    "        xy = uv.dot(bases) # multiply by the column vector (u,v)\n",
    "        patches.append(RegularPolygon(xy, num_sides, outer_radius, poly_orient))\n",
    "        patch = RegularPolygon((0., 0.), num_sides, radius=outer_radius, orientation=poly_orient,\n",
    "                           facecolor='none', edgecolor='k')\n",
    "        points.append(xy)\n",
    "    ax.add_collection(PatchCollection(patches, facecolor='none', edgecolor='k'))\n",
    "    points = np.array(points)\n",
    "    ax.plot(points[:,0], points[:,1], 'ko')\n",
    "    ax.set_aspect('equal')\n",
    "    ax.set_xlim(x[0], x[-1])\n",
    "    ax.set_ylim(y[0], y[-1])\n",
    "    retick(ax, 1.0)\n",
    "    return pc"
   ]
  },
  {
   "cell_type": "code",
   "execution_count": null,
   "metadata": {
    "collapsed": false,
    "scrolled": true
   },
   "outputs": [],
   "source": [
    "(fig, (axu, axv)) = plt.subplots(ncols=2, figsize=(8, 3))\n",
    "pcu = plot_hex_field(axu, U)\n",
    "axu.set_title('$u$ value')\n",
    "pcv = plot_hex_field(axv, V)\n",
    "axv.set_title('$v$ value')\n",
    "fig.colorbar(pcu)"
   ]
  },
  {
   "cell_type": "markdown",
   "metadata": {},
   "source": [
    "These pseudocolor plots show that our $(x, y) \\to (u, v)$ conversion correctly project the hex axes; isovalues are along the $\\vec u$ and $\\vec v$ normals."
   ]
  },
  {
   "cell_type": "markdown",
   "metadata": {},
   "source": [
    "## Third basis function\n",
    "\n",
    "A solution to rounding these correctly to the integer hex coordinates is to rephrase the coordinate system to add a third \"unit vector\", drawn in the earlier graph as the grayed-out $w$ along face index 2. It's a simple linear combination of the other two axes, defined so that $u + v + w = 0$:"
   ]
  },
  {
   "cell_type": "code",
   "execution_count": null,
   "metadata": {
    "collapsed": true
   },
   "outputs": [],
   "source": [
    "W = -U - V"
   ]
  },
  {
   "cell_type": "code",
   "execution_count": null,
   "metadata": {
    "collapsed": false
   },
   "outputs": [],
   "source": [
    "fig, ax = plt.subplots()\n",
    "pc = plot_hex_field(ax, W)\n",
    "axv.set_title('$w$ value')\n",
    "fig.colorbar(pc)"
   ]
  },
  {
   "cell_type": "code",
   "execution_count": null,
   "metadata": {
    "collapsed": false
   },
   "outputs": [],
   "source": [
    "max_uvw = np.maximum.reduce([U,V,W,-U,-V,-W,])\n",
    "\n",
    "fig, ax = plt.subplots()\n",
    "pc = plot_hex_field(ax, max_uvw)\n",
    "ax.contour(X, Y, max_uvw, [0.5, 1.0], colors='g')\n",
    "fig.colorbar(pc);"
   ]
  },
  {
   "cell_type": "markdown",
   "metadata": {},
   "source": [
    "Next, we round the $(u,v,w)$ coordinates to the nearest whole number:"
   ]
  },
  {
   "cell_type": "code",
   "execution_count": null,
   "metadata": {
    "collapsed": true
   },
   "outputs": [],
   "source": [
    "UVW = np.stack([U, V, W])\n",
    "\n",
    "rounded = np.round(UVW)"
   ]
  },
  {
   "cell_type": "code",
   "execution_count": null,
   "metadata": {
    "collapsed": false
   },
   "outputs": [],
   "source": [
    "fig, axes = plt.subplots(ncols=3, figsize=(12, 2.5))\n",
    "for (i, ax) in enumerate(axes):\n",
    "    pc = plot_hex_field(ax, rounded[i,:,:])\n",
    "fig.colorbar(pc)"
   ]
  },
  {
   "cell_type": "markdown",
   "metadata": {},
   "source": [
    "To be consistent, the rounded $(u,v,w)$ values should add to zero just as the unrounded did. We can see that on the corners of the hex, this is not the case:"
   ]
  },
  {
   "cell_type": "code",
   "execution_count": null,
   "metadata": {
    "collapsed": false,
    "scrolled": false
   },
   "outputs": [],
   "source": [
    "summed = rounded[0] + rounded[1] + rounded[2]\n",
    "\n",
    "fig, ax = plt.subplots()\n",
    "pc = plot_hex_field(ax, summed)\n",
    "fig.colorbar(pc)"
   ]
  },
  {
   "cell_type": "code",
   "execution_count": null,
   "metadata": {
    "collapsed": false
   },
   "outputs": [],
   "source": [
    "diffs   = np.abs(rounded - UVW)\n",
    "(du, dv, dw) = (diffs[i] for i in range(3))\n",
    "u_worst = (du > dw) & (du > dv)\n",
    "v_worst = ~u_worst & (dv > dw)\n",
    "w_worst = ~u_worst & ~v_worst"
   ]
  },
  {
   "cell_type": "code",
   "execution_count": null,
   "metadata": {
    "collapsed": false
   },
   "outputs": [],
   "source": [
    "(ru, rv, rw) = (rounded[i] for i in range(3))\n",
    "ru[u_worst] = -rv[u_worst] - rw[u_worst]\n",
    "rv[v_worst] = -ru[v_worst] - rw[v_worst]\n",
    "rw[w_worst] = -ru[w_worst] - rv[w_worst]"
   ]
  },
  {
   "cell_type": "code",
   "execution_count": null,
   "metadata": {
    "collapsed": false,
    "scrolled": true
   },
   "outputs": [],
   "source": [
    "summed = ru + rv + rw\n",
    "\n",
    "fig, ax = plt.subplots()\n",
    "pc = plot_hex_field(ax, summed)\n",
    "fig.colorbar(pc)"
   ]
  },
  {
   "cell_type": "markdown",
   "metadata": {},
   "source": [
    "This shows that the rounded values satisfy the $u + v + w = 0$ relationship. Finally, we look at the rounded $(u,v,w)$ values themselves to see if they give us the correct coordinates:"
   ]
  },
  {
   "cell_type": "code",
   "execution_count": null,
   "metadata": {
    "collapsed": false
   },
   "outputs": [],
   "source": [
    "fig, axes = plt.subplots(ncols=3, figsize=(12, 2.5))\n",
    "for (label, data, ax) in zip(\"uvw\", (ru, rv, rw), axes):\n",
    "    pc = plot_hex_field(ax, data)\n",
    "    ax.set_title(label)\n",
    "fig.colorbar(pc)"
   ]
  },
  {
   "cell_type": "markdown",
   "metadata": {},
   "source": [
    "## Simpler 'rounding' function"
   ]
  },
  {
   "cell_type": "markdown",
   "metadata": {},
   "source": [
    "This is based on the \"Branchless Method\" described in http://www.redblobgames.com/grids/hexagons/more-pixel-to-hex.html#neighbors\n",
    "\n",
    "> All the pixel to hex conversions I’ve seen use branches or a lookup table. I was mystified when Charles Chambers sent me pixel to hex conversion code that uses floor() five times, but no branches. First, divide x and y by size * sqrt(3); then find q, r with:\n",
    ">\n",
    ">     temp = floor(x + sqrt(3) * y + 1)\n",
    "    q = floor((floor(2*x+1) + temp) / 3);\n",
    "    r = floor((temp + floor(-x + sqrt(3) * y + 1))/3);\n",
    "\n",
    "Extracting the embedded expressions, it's clear that the floored expressions are coordinates along the $u$, $v$, and $w$ basis vectors:"
   ]
  },
  {
   "cell_type": "code",
   "execution_count": null,
   "metadata": {
    "collapsed": false,
    "scrolled": true
   },
   "outputs": [],
   "source": [
    "uvw_bases = normals[:3] / apothem\n",
    "uvw_bases"
   ]
  },
  {
   "cell_type": "code",
   "execution_count": null,
   "metadata": {
    "collapsed": false,
    "scrolled": true
   },
   "outputs": [],
   "source": [
    "A = np.floor(uvw_bases[0,0] * X + uvw_bases[0,1] * Y)\n",
    "fig, ax = plt.subplots()\n",
    "plot_hex_field(ax, A)"
   ]
  },
  {
   "cell_type": "code",
   "execution_count": null,
   "metadata": {
    "collapsed": false,
    "scrolled": true
   },
   "outputs": [],
   "source": [
    "B = np.floor(uvw_bases[1,0] * X + uvw_bases[1,1] * Y)\n",
    "fig, ax = plt.subplots()\n",
    "plot_hex_field(ax, B)"
   ]
  },
  {
   "cell_type": "code",
   "execution_count": null,
   "metadata": {
    "collapsed": false
   },
   "outputs": [],
   "source": [
    "C = np.floor(uvw_bases[2,0] * X + uvw_bases[2,1] * Y)\n",
    "fig, ax = plt.subplots()\n",
    "plot_hex_field(ax, C)"
   ]
  },
  {
   "cell_type": "markdown",
   "metadata": {},
   "source": [
    "Adding these is effectively like 'OR'ing the enclosed regions; dividing by 2 or 3 allows the non-integer regions to expand to fill parts of the hexes. Different combinations select different regions; we want regions that have isovalues inside the hexagon."
   ]
  },
  {
   "cell_type": "code",
   "execution_count": null,
   "metadata": {
    "collapsed": false,
    "scrolled": false
   },
   "outputs": [],
   "source": [
    "fig, axes = plt.subplots(ncols=3, nrows=2, figsize=(10,6))\n",
    "plot_hex_field(axes[0,0], (A + B) / 3)\n",
    "plot_hex_field(axes[0,1], (B + C) / 3)\n",
    "plot_hex_field(axes[0,2], (A + C) / 3)\n",
    "plot_hex_field(axes[1,0], (A - B) / 3)\n",
    "plot_hex_field(axes[1,1], (B - C) / 3)\n",
    "plot_hex_field(axes[1,2], (C - A) / 3)"
   ]
  },
  {
   "cell_type": "markdown",
   "metadata": {},
   "source": [
    "We can translate these rhombi as needed; in this case we want to move the $(C - A)$ choice up to select the third corner of the hex in analog to $(A+B)$ and $(B + C)$..."
   ]
  },
  {
   "cell_type": "code",
   "execution_count": null,
   "metadata": {
    "collapsed": false,
    "scrolled": true
   },
   "outputs": [],
   "source": [
    "fig, axes = plt.subplots(ncols=3, nrows=1, figsize=(10,6))\n",
    "plot_hex_field(axes[0], (A - B + 1) / 3)\n",
    "plot_hex_field(axes[1], (B - C + 1) / 3)\n",
    "plot_hex_field(axes[2], (A - C + 1) / 3)"
   ]
  },
  {
   "cell_type": "code",
   "execution_count": null,
   "metadata": {
    "collapsed": false,
    "scrolled": true
   },
   "outputs": [],
   "source": [
    "fig, axes = plt.subplots(ncols=3, figsize=(10,3))\n",
    "plot_hex_field(axes[0], (A + B))\n",
    "plot_hex_field(axes[1], (A + B) / 3)\n",
    "plot_hex_field(axes[2], np.ceil((A + B) / 3))"
   ]
  },
  {
   "cell_type": "code",
   "execution_count": null,
   "metadata": {
    "collapsed": false
   },
   "outputs": [],
   "source": [
    "fig, axes = plt.subplots(ncols=4, figsize=(10,3))\n",
    "plot_hex_field(axes[0], (B + C))\n",
    "plot_hex_field(axes[1], (B + C) / 3)\n",
    "plot_hex_field(axes[2], np.ceil((B + C) / 3))"
   ]
  },
  {
   "cell_type": "code",
   "execution_count": null,
   "metadata": {
    "collapsed": false,
    "scrolled": true
   },
   "outputs": [],
   "source": [
    "fig, axes = plt.subplots(ncols=3, figsize=(10,3))\n",
    "plot_hex_field(axes[0], (1 + A - C))\n",
    "plot_hex_field(axes[1], (1 + A - C) / 3)\n",
    "plot_hex_field(axes[2], np.floor((1 + A - C) / 3))"
   ]
  },
  {
   "cell_type": "markdown",
   "metadata": {},
   "source": [
    "This is much more straightforward than that cube-and-rounding system of doing things."
   ]
  },
  {
   "cell_type": "code",
   "execution_count": null,
   "metadata": {
    "collapsed": true
   },
   "outputs": [],
   "source": [
    "uvw_bases = normals[:3]\n",
    "def xy_to_uv(x, y):\n",
    "    # Dot basis functions with xy coordinates\n",
    "    (a, b, c) = np.array(uvw_bases.dot([x, y]) / apothem, dtype=int)\n",
    "    u = -((-(a + b)) // 3)\n",
    "    v = (1 + a - c) // 3\n",
    "    return (u, v)"
   ]
  },
  {
   "cell_type": "code",
   "execution_count": null,
   "metadata": {
    "collapsed": false
   },
   "outputs": [],
   "source": [
    "print(xy_to_uv(2.0, 0))\n",
    "print(xy_to_uv(1.0, 2.0))\n",
    "print(xy_to_uv(8.0, 10.0))"
   ]
  },
  {
   "cell_type": "code",
   "execution_count": null,
   "metadata": {
    "collapsed": false
   },
   "outputs": [],
   "source": [
    "uvw_bases"
   ]
  },
  {
   "cell_type": "code",
   "execution_count": null,
   "metadata": {
    "collapsed": false
   },
   "outputs": [],
   "source": [
    "uvw_bases.dot([0, 1])"
   ]
  },
  {
   "cell_type": "markdown",
   "metadata": {},
   "source": [
    "### Shexagonal\n",
    "\n",
    "Keno's 'hexagonal' and 'triangular' are the same; they generate a rhombus-looking array with pointy tops. The 'shexagonal' option staggers the grid to look like a square layout."
   ]
  },
  {
   "cell_type": "code",
   "execution_count": null,
   "metadata": {
    "collapsed": false
   },
   "outputs": [],
   "source": [
    "fig, ax = plt.subplots()\n",
    "\n",
    "patches = []\n",
    "umax, vmax = (3, 5)\n",
    "(urangemax, vrangemax) = (umax, vmax)\n",
    "if offset == 0.0: # pointy top\n",
    "    urangemax += (vmax - 1) // 2\n",
    "else:\n",
    "    vrangemax += (umax - 1) // 2\n",
    "\n",
    "for (u, v) in itertools.product(range(urangemax), range(vrangemax)):\n",
    "    uv = np.array([u, v])\n",
    "    xy = uv.dot(bases)\n",
    "    fc = 'none'\n",
    "    if offset == 0.0:\n",
    "        uprime = u + v // 2 - (vmax - 1) // 2\n",
    "        vprime = v\n",
    "    else:\n",
    "        vprime = v + u // 2 - (umax - 1) // 2\n",
    "        uprime = u\n",
    "    if (0 <= uprime < umax) and (0 <= vprime < vmax):\n",
    "        fc = (0,0,0,.25)\n",
    "    patches.append(RegularPolygon(xy, num_sides, outer_radius, poly_orient, fc=fc, edgecolor='k'))\n",
    "    ax.text(xy[0], xy[1], \"{},{}\".format(uprime, vprime), ha='center', va='center')\n",
    "\n",
    "ax.set_xlim(-1.2 * outer_radius, xy[0] + 1.2 * outer_radius)\n",
    "ax.set_ylim(-1.2 * outer_radius, xy[1] + 1.2 * outer_radius)\n",
    "ax.set_aspect('equal')\n",
    "retick(ax)\n",
    "ax.add_collection(PatchCollection(patches, match_original=True))\n",
    "ax.grid()\n",
    "fig.savefig(\"../doc/hex-{}-rect-{:d}x{:d}.pdf\".format(hextype, umax, vmax))"
   ]
  },
  {
   "cell_type": "markdown",
   "metadata": {},
   "source": [
    "So we need to map:\n",
    "\\begin{align}\n",
    "u_0 &= \\lfloor \\tfrac{v_\\text{max} - 1}{2} \\rfloor \\\\\n",
    "u' &= u + \\lfloor \\tfrac{v}{2} \\rfloor - u_0 \\\\\n",
    "v' &= v\n",
    "\\end{align}\n",
    "for $u = \\{0,\\ldots,u_\\text{max} + u_0\\}$, $v = \\{0,\\ldots, v_\\text{max}\\})$\n",
    "in the pointy-topped case and\n",
    "\\begin{align}\n",
    "v_0 &= \\lfloor \\tfrac{u_\\text{max} - 1}{2} \\rfloor \\\\\n",
    "u' &= u \\\\\n",
    "v' &= v - \\lfloor \\tfrac{u}{2} \\rfloor - v_0\n",
    "\\end{align}\n",
    "for $u = \\{0,\\ldots,u_\\text{max}\\}$, $v = \\{0,\\ldots, v_\\text{max} + v_0\\})$\n",
    "in the flat-topped case."
   ]
  }
 ],
 "metadata": {
  "kernelspec": {
   "display_name": "Python 3",
   "language": "python",
   "name": "python3"
  },
  "language_info": {
   "codemirror_mode": {
    "name": "ipython",
    "version": 3
   },
   "file_extension": ".py",
   "mimetype": "text/x-python",
   "name": "python",
   "nbconvert_exporter": "python",
   "pygments_lexer": "ipython3",
   "version": "3.6.6"
  }
 },
 "nbformat": 4,
 "nbformat_minor": 2
}
