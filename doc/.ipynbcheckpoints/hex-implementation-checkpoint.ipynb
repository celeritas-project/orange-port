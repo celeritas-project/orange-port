{
 "cells": [
  {
   "cell_type": "code",
   "execution_count": null,
   "metadata": {
    "collapsed": false
   },
   "outputs": [],
   "source": [
    "from __future__ import print_function, division\n",
    "\n",
    "# Basic python packages\n",
    "import json\n",
    "import math\n",
    "import itertools\n",
    "\n",
    "# External plotting and analysis tools\n",
    "import matplotlib.pyplot as plt\n",
    "import numpy as np\n",
    "%matplotlib inline\n",
    "\n",
    "# Internal plotting and analysis\n",
    "from omnutils.extends.matplotlib import *\n",
    "screen_style()"
   ]
  },
  {
   "cell_type": "code",
   "execution_count": null,
   "metadata": {
    "collapsed": true
   },
   "outputs": [],
   "source": [
    "from matplotlib.patches import RegularPolygon, Rectangle\n",
    "from matplotlib.collections import PatchCollection\n",
    "from matplotlib.colors import Normalize"
   ]
  },
  {
   "cell_type": "markdown",
   "metadata": {},
   "source": [
    "Hex implementation\n",
    "======"
   ]
  },
  {
   "cell_type": "code",
   "execution_count": null,
   "metadata": {
    "collapsed": false
   },
   "outputs": [],
   "source": [
    "# TEST_F(HexTrackerTest, pointy_romboid)\n",
    "\n",
    "xy_origin = np.array([-2, -3])\n",
    "apothem = 1.5 # inner radius\n",
    "uvdims = (3, 5)\n",
    "z_grid = np.array([-4., 0., 4.])\n",
    "orientation = \"POINTY_TOP\"\n",
    "rect_layout = False"
   ]
  },
  {
   "cell_type": "code",
   "execution_count": null,
   "metadata": {
    "collapsed": false
   },
   "outputs": [],
   "source": [
    "# TEST_F(HexTrackerTest, pointy_rect)\n",
    "\n",
    "xy_origin = np.array([-2, -3])\n",
    "apothem = 1.5 # inner radius\n",
    "uvdims = (3, 5)\n",
    "z_grid = np.array([-4.0, 0., 2., 3.])\n",
    "orientation = \"POINTY_TOP\"\n",
    "rect_layout = True"
   ]
  },
  {
   "cell_type": "code",
   "execution_count": null,
   "metadata": {
    "collapsed": false
   },
   "outputs": [],
   "source": [
    "# TEST_F(HexTrackerTest, flat_rhomboid)\n",
    "\n",
    "xy_origin = np.array([1, 2])\n",
    "apothem = 2.0 # inner radius\n",
    "uvdims = (4, 2)\n",
    "z_grid = np.array([-1.0, 0., 2., 5.])\n",
    "orientation = \"FLAT_TOP\"\n",
    "rect_layout = False"
   ]
  },
  {
   "cell_type": "code",
   "execution_count": null,
   "metadata": {
    "collapsed": false
   },
   "outputs": [],
   "source": [
    "# TEST_F(HexTrackerTest, flat_rect)\n",
    "\n",
    "xy_origin = np.array([0, 0])\n",
    "apothem = 0.5 # inner radius\n",
    "uvdims = (4, 2)\n",
    "z_grid = np.array([-1.0, 1.])\n",
    "orientation = \"FLAT_TOP\"\n",
    "rect_layout = True"
   ]
  },
  {
   "cell_type": "code",
   "execution_count": null,
   "metadata": {
    "collapsed": false
   },
   "outputs": [],
   "source": [
    "(U, V, W) = (0, 1, 2)\n",
    "(X, Y) = (0,1)\n",
    "\n",
    "# Plotting and other constants that change because of rect layout/orientation\n",
    "uvdims = np.asarray(uvdims, dtype=int)\n",
    "xy_origin = np.asarray(xy_origin)\n",
    "z_grid = np.asarray(z_grid)\n",
    "pointy_top = {\"POINTY_TOP\": True, \"FLAT_TOP\": False}[orientation]\n",
    "offset = {\"POINTY_TOP\": 0.0, \"FLAT_TOP\": 0.5}[orientation]\n",
    "outer_radius = apothem / math.cos(math.pi / 6)\n",
    "poly_orient = math.pi * offset\n",
    "\n",
    "if pointy_top:\n",
    "    (off_ax, reg_ax) = (U, V)\n",
    "else:\n",
    "    (off_ax, reg_ax) = (V, U)"
   ]
  },
  {
   "cell_type": "code",
   "execution_count": null,
   "metadata": {
    "collapsed": false
   },
   "outputs": [],
   "source": [
    "half_rt3 = 0.5 * math.sqrt(3.)\n",
    "if pointy_top:\n",
    "    uvw_normals = np.array([[1., 0], [.5, half_rt3], [-.5, half_rt3]])\n",
    "else:\n",
    "    uvw_normals = np.array([[half_rt3, 0.5], [0, 1], [-half_rt3, .5]])\n",
    "uv_span = uvw_normals[:2,:] * apothem * 2\n",
    "uvw = uvw_normals / apothem"
   ]
  },
  {
   "cell_type": "code",
   "execution_count": null,
   "metadata": {
    "collapsed": true
   },
   "outputs": [],
   "source": [
    "user_offsets = np.array([0,0])\n",
    "if rect_layout:\n",
    "    user_offsets[off_ax] += (uvdims[reg_ax] - 1)/2"
   ]
  },
  {
   "cell_type": "code",
   "execution_count": null,
   "metadata": {
    "collapsed": true
   },
   "outputs": [],
   "source": [
    "def user_to_internal(uv):\n",
    "    if rect_layout:\n",
    "        uv[off_ax] -= uv[reg_ax] // 2 - (dims[reg_ax] - 1)//2\n",
    "    return uv"
   ]
  },
  {
   "cell_type": "code",
   "execution_count": null,
   "metadata": {
    "collapsed": true
   },
   "outputs": [],
   "source": [
    "def internal_to_user(uv):\n",
    "    if rect_layout:\n",
    "        uv[off_ax] += uv[reg_ax] // 2 - (dims[reg_ax] - 1)//2\n",
    "    return uv"
   ]
  },
  {
   "cell_type": "code",
   "execution_count": null,
   "metadata": {
    "collapsed": false
   },
   "outputs": [],
   "source": [
    "ll_to_center = 1. / np.array([uvw[U,X], uvw[V,Y]])\n",
    "origin = xy_origin + ll_to_center - user_offsets.dot(uv_span)\n",
    "dims = uvdims + user_offsets\n",
    "\n",
    "_beg_hex = user_to_internal(np.array([0,0]))\n",
    "_end_hex = user_to_internal(np.array(uvdims - 1))\n",
    "lower = origin + (_beg_hex).dot(uv_span) - ll_to_center\n",
    "upper = origin + (_end_hex).dot(uv_span) + ll_to_center\n",
    "if rect_layout and uvdims[reg_ax] % 2 == 1:\n",
    "    upper += uv_span[off_ax] / 2"
   ]
  },
  {
   "cell_type": "code",
   "execution_count": null,
   "metadata": {
    "collapsed": false
   },
   "outputs": [],
   "source": [
    "fig, ax = plt.subplots()\n",
    "patches = []\n",
    "\n",
    "for (u, v) in itertools.product(range(dims[U]), range(dims[V])):\n",
    "    uv = np.array([u, v])\n",
    "    xy = uv.dot(uv_span) + origin\n",
    "    ax.text(xy[0], xy[1] - apothem/2, \"{},{}\".format(*uv), ha='center', va='center',\n",
    "            fontsize=6, color=(0.8,0,0))\n",
    "    \n",
    "    fc = 'none'\n",
    "    (u, v) = internal_to_user(uv)\n",
    "    if (0 <= u < uvdims[U]) and (0 <= v < uvdims[V]):\n",
    "        fc = (0,0,0,.25)\n",
    "        ax.text(xy[0], xy[1], \"{},{}\".format(u, v), ha='center', va='center')\n",
    "    patches.append(RegularPolygon(xy, 6, outer_radius, poly_orient, fc=fc))\n",
    "\n",
    "patches.append(Rectangle(lower, upper[X] - lower[X], upper[Y] - lower[Y],\n",
    "               fc='none', ec=(0,.4,.8,.5)))\n",
    "\n",
    "_lower = origin - ll_to_center\n",
    "_upper = origin + (dims - 1).dot(uv_span) + ll_to_center\n",
    "\n",
    "ax.set_xlim(_lower[X], _upper[X])\n",
    "ax.set_ylim(_lower[Y], _upper[Y])\n",
    "ax.set_aspect('equal')\n",
    "ax.add_collection(PatchCollection(patches, match_original=True))\n",
    "ax.grid()\n",
    "if True:\n",
    "    plt.savefig(\"../doc/hex-{}-{}-{}x{}-coords.pdf\".format(\n",
    "            orientation.lower().replace(\"_\",\"\"),\n",
    "            \"rect\" if rect_layout else \"rhomb\",\n",
    "            uvdims[U],\n",
    "            uvdims[V]))"
   ]
  },
  {
   "cell_type": "code",
   "execution_count": null,
   "metadata": {
    "collapsed": false
   },
   "outputs": [],
   "source": [
    "fig, ax = plt.subplots()\n",
    "\n",
    "# Plot hex\n",
    "patch = RegularPolygon(origin, 6, radius=outer_radius, orientation=poly_orient,\n",
    "                       facecolor='none')\n",
    "\n",
    "# Plot boundary\n",
    "single_extents = np.stack([origin - ll_to_center, origin + ll_to_center])\n",
    "bound_patch = Rectangle(single_extents[0,:], single_extents[1,X] - single_extents[0,X],\n",
    "                        single_extents[1,Y] - single_extents[0,Y],\n",
    "                       fc='none', ec=(0,.4,.8,.25))\n",
    "\n",
    "# Set plot extents\n",
    "single_extents[0,:] -= ll_to_center * 1.1\n",
    "single_extents[1,:] += ll_to_center * 1.1\n",
    "ax.set_xlim(single_extents[:,X])\n",
    "ax.set_ylim(single_extents[:,Y])\n",
    "\n",
    "ax.set_aspect('equal')\n",
    "ax.add_patch(patch)\n",
    "ax.add_patch(bound_patch)\n",
    "ax.plot(origin[X], origin[Y], 'ko')\n",
    "\n",
    "# Plot faces\n",
    "displacements = uvw_normals * apothem\n",
    "ax.plot(uvw_normals[:,X] * apothem + origin[X], uvw_normals[:,Y] * apothem + origin[Y], 'ro')\n",
    "    \n",
    "# Plot bases\n",
    "for (i, lab, c) in zip((0,1,2), \"uvw\", ('k','k', (.75,.75,.75))):\n",
    "    basis = 2 * displacements[i]\n",
    "    ax.arrow(origin[X], origin[Y], basis[X], basis[Y],\n",
    "             head_width=.1 * apothem, head_length=.15 * apothem, fc=c, color=c)\n",
    "    end_coord = displacements[i,:] + origin\n",
    "    ax.text(end_coord[X], end_coord[Y] + apothem/4, \"${}$\".format(lab), color=c)\n",
    "    \n",
    "ax.grid()"
   ]
  },
  {
   "cell_type": "code",
   "execution_count": null,
   "metadata": {
    "collapsed": false
   },
   "outputs": [],
   "source": [
    "for (u, v) in itertools.product(range(dims[U]), range(dims[V])):\n",
    "    uv = np.array([u, v], dtype=int)\n",
    "    assert np.all(uv == user_to_internal(internal_to_user(uv)))"
   ]
  },
  {
   "cell_type": "code",
   "execution_count": null,
   "metadata": {
    "collapsed": true
   },
   "outputs": [],
   "source": [
    "def set_extents(ax, dx=2):\n",
    "    (lo, hi) = lower[X], upper[X]\n",
    "    ax.set_xticks(np.arange(math.ceil(lo), math.floor(hi + dx), dx))\n",
    "    ax.set_xlim(lo, hi)\n",
    "    (lo, hi) = lower[Y], upper[Y]\n",
    "    ax.set_yticks(np.arange(math.ceil(lo), math.floor(hi + dx), dx))\n",
    "    ax.set_ylim(lo, hi)"
   ]
  },
  {
   "cell_type": "code",
   "execution_count": null,
   "metadata": {
    "collapsed": true
   },
   "outputs": [],
   "source": [
    "def xy_to_uv(xy):\n",
    "    xy = xy - origin\n",
    "    # Dot basis functions with xy coordinates\n",
    "    (a, b, c) = np.floor(uvw.dot(xy))\n",
    "    u = int(math.floor((1 + a - c) / 3))\n",
    "    v = int(math.ceil((b + c) / 3))\n",
    "    return (u, v)"
   ]
  },
  {
   "cell_type": "code",
   "execution_count": null,
   "metadata": {
    "collapsed": true
   },
   "outputs": [],
   "source": [
    "# Rect (3x5)\n",
    "#sample_points = np.array([(3, -3), (5, -1), (4.7, 0), (7,-3), (10.5,4.4), (13, 2), (13.2,4.3),  (16.78, -3.5),\n",
    "#                          (16.8,4.6), (22,7.2)])"
   ]
  },
  {
   "cell_type": "code",
   "execution_count": null,
   "metadata": {
    "collapsed": false
   },
   "outputs": [],
   "source": [
    "# Within each hex\n",
    "sample_points = np.empty((dims[U] * dims[V] * 2, 2))\n",
    "i = itertools.count()\n",
    "for (u, v) in itertools.product(range(dims[U]), range(dims[V])):\n",
    "    center = np.array((u,v)).dot(uv_span) + origin\n",
    "    sample_points[next(i),:] = center - .5 * apothem\n",
    "    sample_points[next(i),:] = center + .5 * apothem"
   ]
  },
  {
   "cell_type": "code",
   "execution_count": null,
   "metadata": {
    "collapsed": true
   },
   "outputs": [],
   "source": [
    "np.random.seed(1984718)"
   ]
  },
  {
   "cell_type": "code",
   "execution_count": null,
   "metadata": {
    "collapsed": false
   },
   "outputs": [],
   "source": [
    "# Random sample\n",
    "sample_points = np.random.rand(64,2)\n",
    "width = upper - lower\n",
    "for ax in (X, Y):\n",
    "    sample_points[:,ax] *= width[ax]\n",
    "    sample_points[:,ax] += lower[ax]"
   ]
  },
  {
   "cell_type": "code",
   "execution_count": null,
   "metadata": {
    "collapsed": false
   },
   "outputs": [],
   "source": [
    "# Stratified random sample\n",
    "nx = 8\n",
    "ny = int(nx * width[Y] / width[X])\n",
    "xl, yl = np.meshgrid(np.linspace(lower[X], upper[X], nx), np.linspace(lower[Y], upper[Y], ny))\n",
    "xl += np.random.rand(*xl.shape) * width[X] / nx\n",
    "yl += np.random.rand(*yl.shape) * width[Y] / ny\n",
    "sample_points = np.stack((xl.flatten(), yl.flatten())).T"
   ]
  },
  {
   "cell_type": "code",
   "execution_count": null,
   "metadata": {
    "collapsed": false,
    "scrolled": false
   },
   "outputs": [],
   "source": [
    "fig, ax = plt.subplots(figsize=(5,5))\n",
    "patches = []\n",
    "\n",
    "# Plot hexes\n",
    "for (u, v) in itertools.product(range(dims[U]), range(dims[V])):\n",
    "    uv = np.array([u, v])\n",
    "    xy = uv.dot(uv_span) + origin\n",
    "    patches.append(RegularPolygon(xy, 6, outer_radius, poly_orient, fc='none',\n",
    "                                 ec=(.5,.5,.5)))\n",
    "    ax.text(xy[0], xy[1], \"{},{}\".format(u, v), ha='center', va='center',\n",
    "            fontsize=8, color=(0, .5, .9))\n",
    "\n",
    "# Find and plot points\n",
    "color = (.7,.1,.1)\n",
    "ax.scatter(sample_points[:,X], sample_points[:,Y],\n",
    "           c=color, s=10, edgecolors='none')\n",
    "for xy in sample_points:\n",
    "    (u, v) = xy_to_uv(xy)\n",
    "    if (0 <= u < dims[U]) and (0 <= v < dims[V]):\n",
    "        ax.text(xy[0] + apothem/8, xy[1], \"{},{}\".format(u, v), ha='left', va='center',\n",
    "                fontsize=8, color=color)\n",
    "\n",
    "set_extents(ax)\n",
    "ax.set_aspect('equal')\n",
    "ax.add_collection(PatchCollection(patches, match_original=True))\n",
    "ax.grid()"
   ]
  },
  {
   "cell_type": "code",
   "execution_count": null,
   "metadata": {
    "collapsed": false
   },
   "outputs": [],
   "source": [
    "def find_grid_point(z):\n",
    "    k = np.searchsorted(z_grid, z)\n",
    "    if z_grid[k] != z or k + 1 == len(z_grid):\n",
    "        k -= 1\n",
    "    return k"
   ]
  },
  {
   "cell_type": "code",
   "execution_count": null,
   "metadata": {
    "collapsed": false
   },
   "outputs": [],
   "source": [
    "z = np.random.rand(*xl.shape) * (z_grid[-1] - z_grid[0]) + z_grid[0]"
   ]
  },
  {
   "cell_type": "code",
   "execution_count": null,
   "metadata": {
    "collapsed": false
   },
   "outputs": [],
   "source": [
    "xyz = np.concatenate([sample_points, np.array([z.flatten()]).T], axis=1)"
   ]
  },
  {
   "cell_type": "code",
   "execution_count": null,
   "metadata": {
    "collapsed": false,
    "scrolled": true
   },
   "outputs": [],
   "source": [
    "bench_xyz = [\"const double xyz[] = {\\n    \"]\n",
    "bench_uvk = [\"const size_type expected_uvk[] = {\\n    \"]\n",
    "ctr = itertools.count()\n",
    "for point in xyz:\n",
    "    (u, v) = xy_to_uv(point[:2])\n",
    "    k = find_grid_point(point[2])\n",
    "    if (0 <= u < uvdims[U]) and (0 <= v < uvdims[V]):\n",
    "        bench_xyz.append(\"{:18.14f}, {:18.14f}, {:18.14f},\\n    \".format(*point))\n",
    "        bench_uvk.append(\"{:3d}, {:3d}, {:3d},  \".format(u, v, k))\n",
    "        if next(ctr) % 4 == 3:\n",
    "            bench_uvk.append(\"\\n    \")\n",
    "bench_xyz.append(\"\\n    };\\n\")\n",
    "bench_uvk.append(\"\\n    };\\n\")\n",
    "print(\"\".join(bench_xyz))\n",
    "print(\"\".join(bench_uvk))"
   ]
  },
  {
   "cell_type": "code",
   "execution_count": null,
   "metadata": {
    "collapsed": false
   },
   "outputs": [],
   "source": [
    "print(\"EXPECT_VEC_SOFT_EQ(Space_Vector({}, {}, {}), bbox.lower());\".format(lower[X], lower[Y], z_grid[0]))\n",
    "print(\"EXPECT_VEC_SOFT_EQ(Space_Vector({}, {}, {}), bbox.upper());\".format(upper[X], upper[Y], z_grid[-1]))"
   ]
  },
  {
   "cell_type": "code",
   "execution_count": null,
   "metadata": {
    "collapsed": true
   },
   "outputs": [],
   "source": []
  }
 ],
 "metadata": {
  "kernelspec": {
   "display_name": "Python 2",
   "language": "python",
   "name": "python2"
  },
  "language_info": {
   "codemirror_mode": {
    "name": "ipython",
    "version": 2
   },
   "file_extension": ".py",
   "mimetype": "text/x-python",
   "name": "python",
   "nbconvert_exporter": "python",
   "pygments_lexer": "ipython2",
   "version": "2.7.10"
  }
 },
 "nbformat": 4,
 "nbformat_minor": 0
}
